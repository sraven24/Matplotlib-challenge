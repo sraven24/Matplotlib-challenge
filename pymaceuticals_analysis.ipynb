{
 "cells": [
  {
   "cell_type": "code",
   "execution_count": 1,
   "id": "e32d4a1f",
   "metadata": {},
   "outputs": [],
   "source": [
    "#Pymaceuticals Inc.\n",
    "# Analysis\n",
    "# Of the data present at least three conclusions can be drawn:\n",
    "# 1. Ramican had the largest impact on the tumors having the lowest tumor average and the lowest tumor standard variation.\n",
    "# 2. There is a strong relationship between weight and tumor size for mice on Capomulin. That is, the lower the weight of the mouse the lower the average tumor size.\n",
    "# 3. The data maybe skewed in favor of Ramican and Capomulin since far more mice were tested on those regiments than on any of the other drugs on the list, close to 50 mice extra for both."
   ]
  },
  {
   "cell_type": "code",
   "execution_count": 2,
   "id": "bf014639",
   "metadata": {
    "scrolled": true
   },
   "outputs": [
    {
     "data": {
      "text/html": [
       "<div>\n",
       "<style scoped>\n",
       "    .dataframe tbody tr th:only-of-type {\n",
       "        vertical-align: middle;\n",
       "    }\n",
       "\n",
       "    .dataframe tbody tr th {\n",
       "        vertical-align: top;\n",
       "    }\n",
       "\n",
       "    .dataframe thead th {\n",
       "        text-align: right;\n",
       "    }\n",
       "</style>\n",
       "<table border=\"1\" class=\"dataframe\">\n",
       "  <thead>\n",
       "    <tr style=\"text-align: right;\">\n",
       "      <th></th>\n",
       "      <th>Mouse ID</th>\n",
       "      <th>Timepoint</th>\n",
       "      <th>Tumor Volume (mm3)</th>\n",
       "      <th>Metastatic Sites</th>\n",
       "      <th>Drug Regimen</th>\n",
       "      <th>Sex</th>\n",
       "      <th>Age_months</th>\n",
       "      <th>Weight (g)</th>\n",
       "    </tr>\n",
       "  </thead>\n",
       "  <tbody>\n",
       "    <tr>\n",
       "      <th>0</th>\n",
       "      <td>b128</td>\n",
       "      <td>0</td>\n",
       "      <td>45.0</td>\n",
       "      <td>0</td>\n",
       "      <td>Capomulin</td>\n",
       "      <td>Female</td>\n",
       "      <td>9</td>\n",
       "      <td>22</td>\n",
       "    </tr>\n",
       "    <tr>\n",
       "      <th>1</th>\n",
       "      <td>f932</td>\n",
       "      <td>0</td>\n",
       "      <td>45.0</td>\n",
       "      <td>0</td>\n",
       "      <td>Ketapril</td>\n",
       "      <td>Male</td>\n",
       "      <td>15</td>\n",
       "      <td>29</td>\n",
       "    </tr>\n",
       "    <tr>\n",
       "      <th>2</th>\n",
       "      <td>g107</td>\n",
       "      <td>0</td>\n",
       "      <td>45.0</td>\n",
       "      <td>0</td>\n",
       "      <td>Ketapril</td>\n",
       "      <td>Female</td>\n",
       "      <td>2</td>\n",
       "      <td>29</td>\n",
       "    </tr>\n",
       "    <tr>\n",
       "      <th>3</th>\n",
       "      <td>a457</td>\n",
       "      <td>0</td>\n",
       "      <td>45.0</td>\n",
       "      <td>0</td>\n",
       "      <td>Ketapril</td>\n",
       "      <td>Female</td>\n",
       "      <td>11</td>\n",
       "      <td>30</td>\n",
       "    </tr>\n",
       "    <tr>\n",
       "      <th>4</th>\n",
       "      <td>c819</td>\n",
       "      <td>0</td>\n",
       "      <td>45.0</td>\n",
       "      <td>0</td>\n",
       "      <td>Ketapril</td>\n",
       "      <td>Male</td>\n",
       "      <td>21</td>\n",
       "      <td>25</td>\n",
       "    </tr>\n",
       "  </tbody>\n",
       "</table>\n",
       "</div>"
      ],
      "text/plain": [
       "  Mouse ID  Timepoint  Tumor Volume (mm3)  Metastatic Sites Drug Regimen  \\\n",
       "0     b128          0                45.0                 0    Capomulin   \n",
       "1     f932          0                45.0                 0     Ketapril   \n",
       "2     g107          0                45.0                 0     Ketapril   \n",
       "3     a457          0                45.0                 0     Ketapril   \n",
       "4     c819          0                45.0                 0     Ketapril   \n",
       "\n",
       "      Sex  Age_months  Weight (g)  \n",
       "0  Female           9          22  \n",
       "1    Male          15          29  \n",
       "2  Female           2          29  \n",
       "3  Female          11          30  \n",
       "4    Male          21          25  "
      ]
     },
     "execution_count": 2,
     "metadata": {},
     "output_type": "execute_result"
    }
   ],
   "source": [
    "# Dependencies and Setup\n",
    "import matplotlib.pyplot as plt\n",
    "import pandas as pd\n",
    "import scipy.stats as st\n",
    "\n",
    "# Study data files\n",
    "mouse_metadata_path = \"data/Mouse_metadata.csv\"\n",
    "study_results_path = \"data/Study_results.csv\"\n",
    "\n",
    "# Read the mouse data and the study results\n",
    "mouse_metadata = pd.read_csv(mouse_metadata_path)\n",
    "study_results = pd.read_csv(study_results_path)\n",
    "\n",
    "# Combine the data into a single dataset\n",
    "study_data_complete = pd.merge(study_results, mouse_metadata, how = \"left\", on=[\"Mouse ID\", \"Mouse ID\"])\n",
    "# Display the data table for preview\n",
    "study_data_complete.head()"
   ]
  },
  {
   "cell_type": "code",
   "execution_count": 3,
   "id": "ac6949fa",
   "metadata": {},
   "outputs": [
    {
     "data": {
      "text/plain": [
       "249"
      ]
     },
     "execution_count": 3,
     "metadata": {},
     "output_type": "execute_result"
    }
   ],
   "source": [
    " # Checking the number of mice.\n",
    "mice_count = len(pd.unique(study_data_complete['Mouse ID']))\n",
    "mice_count"
   ]
  },
  {
   "cell_type": "code",
   "execution_count": 4,
   "id": "d3b1c21f",
   "metadata": {},
   "outputs": [
    {
     "data": {
      "text/plain": [
       "'g989'"
      ]
     },
     "execution_count": 4,
     "metadata": {},
     "output_type": "execute_result"
    }
   ],
   "source": [
    " # Getting the duplicate mice by ID number that shows up for Mouse ID and Timepoint.\n",
    "duplicate=study_data_complete[study_data_complete.duplicated(['Mouse ID','Timepoint'])]\n",
    "duplicate_mouse = duplicate.iloc[0,0]\n",
    "duplicate_mouse"
   ]
  },
  {
   "cell_type": "code",
   "execution_count": 5,
   "id": "35512ed1",
   "metadata": {},
   "outputs": [
    {
     "data": {
      "text/html": [
       "<div>\n",
       "<style scoped>\n",
       "    .dataframe tbody tr th:only-of-type {\n",
       "        vertical-align: middle;\n",
       "    }\n",
       "\n",
       "    .dataframe tbody tr th {\n",
       "        vertical-align: top;\n",
       "    }\n",
       "\n",
       "    .dataframe thead th {\n",
       "        text-align: right;\n",
       "    }\n",
       "</style>\n",
       "<table border=\"1\" class=\"dataframe\">\n",
       "  <thead>\n",
       "    <tr style=\"text-align: right;\">\n",
       "      <th></th>\n",
       "      <th>Mouse ID</th>\n",
       "      <th>Timepoint</th>\n",
       "      <th>Tumor Volume (mm3)</th>\n",
       "      <th>Metastatic Sites</th>\n",
       "      <th>Drug Regimen</th>\n",
       "      <th>Sex</th>\n",
       "      <th>Age_months</th>\n",
       "      <th>Weight (g)</th>\n",
       "    </tr>\n",
       "  </thead>\n",
       "  <tbody>\n",
       "    <tr>\n",
       "      <th>107</th>\n",
       "      <td>g989</td>\n",
       "      <td>0</td>\n",
       "      <td>45.000000</td>\n",
       "      <td>0</td>\n",
       "      <td>Propriva</td>\n",
       "      <td>Female</td>\n",
       "      <td>21</td>\n",
       "      <td>26</td>\n",
       "    </tr>\n",
       "    <tr>\n",
       "      <th>137</th>\n",
       "      <td>g989</td>\n",
       "      <td>0</td>\n",
       "      <td>45.000000</td>\n",
       "      <td>0</td>\n",
       "      <td>Propriva</td>\n",
       "      <td>Female</td>\n",
       "      <td>21</td>\n",
       "      <td>26</td>\n",
       "    </tr>\n",
       "    <tr>\n",
       "      <th>329</th>\n",
       "      <td>g989</td>\n",
       "      <td>5</td>\n",
       "      <td>48.786801</td>\n",
       "      <td>0</td>\n",
       "      <td>Propriva</td>\n",
       "      <td>Female</td>\n",
       "      <td>21</td>\n",
       "      <td>26</td>\n",
       "    </tr>\n",
       "    <tr>\n",
       "      <th>360</th>\n",
       "      <td>g989</td>\n",
       "      <td>5</td>\n",
       "      <td>47.570392</td>\n",
       "      <td>0</td>\n",
       "      <td>Propriva</td>\n",
       "      <td>Female</td>\n",
       "      <td>21</td>\n",
       "      <td>26</td>\n",
       "    </tr>\n",
       "    <tr>\n",
       "      <th>620</th>\n",
       "      <td>g989</td>\n",
       "      <td>10</td>\n",
       "      <td>51.745156</td>\n",
       "      <td>0</td>\n",
       "      <td>Propriva</td>\n",
       "      <td>Female</td>\n",
       "      <td>21</td>\n",
       "      <td>26</td>\n",
       "    </tr>\n",
       "    <tr>\n",
       "      <th>681</th>\n",
       "      <td>g989</td>\n",
       "      <td>10</td>\n",
       "      <td>49.880528</td>\n",
       "      <td>0</td>\n",
       "      <td>Propriva</td>\n",
       "      <td>Female</td>\n",
       "      <td>21</td>\n",
       "      <td>26</td>\n",
       "    </tr>\n",
       "    <tr>\n",
       "      <th>815</th>\n",
       "      <td>g989</td>\n",
       "      <td>15</td>\n",
       "      <td>51.325852</td>\n",
       "      <td>1</td>\n",
       "      <td>Propriva</td>\n",
       "      <td>Female</td>\n",
       "      <td>21</td>\n",
       "      <td>26</td>\n",
       "    </tr>\n",
       "    <tr>\n",
       "      <th>869</th>\n",
       "      <td>g989</td>\n",
       "      <td>15</td>\n",
       "      <td>53.442020</td>\n",
       "      <td>0</td>\n",
       "      <td>Propriva</td>\n",
       "      <td>Female</td>\n",
       "      <td>21</td>\n",
       "      <td>26</td>\n",
       "    </tr>\n",
       "    <tr>\n",
       "      <th>950</th>\n",
       "      <td>g989</td>\n",
       "      <td>20</td>\n",
       "      <td>55.326122</td>\n",
       "      <td>1</td>\n",
       "      <td>Propriva</td>\n",
       "      <td>Female</td>\n",
       "      <td>21</td>\n",
       "      <td>26</td>\n",
       "    </tr>\n",
       "    <tr>\n",
       "      <th>1111</th>\n",
       "      <td>g989</td>\n",
       "      <td>20</td>\n",
       "      <td>54.657650</td>\n",
       "      <td>1</td>\n",
       "      <td>Propriva</td>\n",
       "      <td>Female</td>\n",
       "      <td>21</td>\n",
       "      <td>26</td>\n",
       "    </tr>\n",
       "    <tr>\n",
       "      <th>1195</th>\n",
       "      <td>g989</td>\n",
       "      <td>25</td>\n",
       "      <td>56.045564</td>\n",
       "      <td>1</td>\n",
       "      <td>Propriva</td>\n",
       "      <td>Female</td>\n",
       "      <td>21</td>\n",
       "      <td>26</td>\n",
       "    </tr>\n",
       "    <tr>\n",
       "      <th>1380</th>\n",
       "      <td>g989</td>\n",
       "      <td>30</td>\n",
       "      <td>59.082294</td>\n",
       "      <td>1</td>\n",
       "      <td>Propriva</td>\n",
       "      <td>Female</td>\n",
       "      <td>21</td>\n",
       "      <td>26</td>\n",
       "    </tr>\n",
       "    <tr>\n",
       "      <th>1592</th>\n",
       "      <td>g989</td>\n",
       "      <td>35</td>\n",
       "      <td>62.570880</td>\n",
       "      <td>2</td>\n",
       "      <td>Propriva</td>\n",
       "      <td>Female</td>\n",
       "      <td>21</td>\n",
       "      <td>26</td>\n",
       "    </tr>\n",
       "  </tbody>\n",
       "</table>\n",
       "</div>"
      ],
      "text/plain": [
       "     Mouse ID  Timepoint  Tumor Volume (mm3)  Metastatic Sites Drug Regimen  \\\n",
       "107      g989          0           45.000000                 0     Propriva   \n",
       "137      g989          0           45.000000                 0     Propriva   \n",
       "329      g989          5           48.786801                 0     Propriva   \n",
       "360      g989          5           47.570392                 0     Propriva   \n",
       "620      g989         10           51.745156                 0     Propriva   \n",
       "681      g989         10           49.880528                 0     Propriva   \n",
       "815      g989         15           51.325852                 1     Propriva   \n",
       "869      g989         15           53.442020                 0     Propriva   \n",
       "950      g989         20           55.326122                 1     Propriva   \n",
       "1111     g989         20           54.657650                 1     Propriva   \n",
       "1195     g989         25           56.045564                 1     Propriva   \n",
       "1380     g989         30           59.082294                 1     Propriva   \n",
       "1592     g989         35           62.570880                 2     Propriva   \n",
       "\n",
       "         Sex  Age_months  Weight (g)  \n",
       "107   Female          21          26  \n",
       "137   Female          21          26  \n",
       "329   Female          21          26  \n",
       "360   Female          21          26  \n",
       "620   Female          21          26  \n",
       "681   Female          21          26  \n",
       "815   Female          21          26  \n",
       "869   Female          21          26  \n",
       "950   Female          21          26  \n",
       "1111  Female          21          26  \n",
       "1195  Female          21          26  \n",
       "1380  Female          21          26  \n",
       "1592  Female          21          26  "
      ]
     },
     "execution_count": 5,
     "metadata": {},
     "output_type": "execute_result"
    }
   ],
   "source": [
    " # Optional: Get all the data for the duplicate mouse ID.\n",
    "all_duplicate_mouse = study_data_complete.loc[study_data_complete['Mouse ID']=='g989']\n",
    "all_duplicate_mouse"
   ]
  },
  {
   "cell_type": "code",
   "execution_count": 6,
   "id": "a5953f4c",
   "metadata": {},
   "outputs": [
    {
     "data": {
      "text/html": [
       "<div>\n",
       "<style scoped>\n",
       "    .dataframe tbody tr th:only-of-type {\n",
       "        vertical-align: middle;\n",
       "    }\n",
       "\n",
       "    .dataframe tbody tr th {\n",
       "        vertical-align: top;\n",
       "    }\n",
       "\n",
       "    .dataframe thead th {\n",
       "        text-align: right;\n",
       "    }\n",
       "</style>\n",
       "<table border=\"1\" class=\"dataframe\">\n",
       "  <thead>\n",
       "    <tr style=\"text-align: right;\">\n",
       "      <th></th>\n",
       "      <th>Mouse ID</th>\n",
       "      <th>Timepoint</th>\n",
       "      <th>Tumor Volume (mm3)</th>\n",
       "      <th>Metastatic Sites</th>\n",
       "      <th>Drug Regimen</th>\n",
       "      <th>Sex</th>\n",
       "      <th>Age_months</th>\n",
       "      <th>Weight (g)</th>\n",
       "    </tr>\n",
       "  </thead>\n",
       "  <tbody>\n",
       "    <tr>\n",
       "      <th>0</th>\n",
       "      <td>b128</td>\n",
       "      <td>0</td>\n",
       "      <td>45.0</td>\n",
       "      <td>0</td>\n",
       "      <td>Capomulin</td>\n",
       "      <td>Female</td>\n",
       "      <td>9</td>\n",
       "      <td>22</td>\n",
       "    </tr>\n",
       "    <tr>\n",
       "      <th>1</th>\n",
       "      <td>f932</td>\n",
       "      <td>0</td>\n",
       "      <td>45.0</td>\n",
       "      <td>0</td>\n",
       "      <td>Ketapril</td>\n",
       "      <td>Male</td>\n",
       "      <td>15</td>\n",
       "      <td>29</td>\n",
       "    </tr>\n",
       "    <tr>\n",
       "      <th>2</th>\n",
       "      <td>g107</td>\n",
       "      <td>0</td>\n",
       "      <td>45.0</td>\n",
       "      <td>0</td>\n",
       "      <td>Ketapril</td>\n",
       "      <td>Female</td>\n",
       "      <td>2</td>\n",
       "      <td>29</td>\n",
       "    </tr>\n",
       "    <tr>\n",
       "      <th>3</th>\n",
       "      <td>a457</td>\n",
       "      <td>0</td>\n",
       "      <td>45.0</td>\n",
       "      <td>0</td>\n",
       "      <td>Ketapril</td>\n",
       "      <td>Female</td>\n",
       "      <td>11</td>\n",
       "      <td>30</td>\n",
       "    </tr>\n",
       "    <tr>\n",
       "      <th>4</th>\n",
       "      <td>c819</td>\n",
       "      <td>0</td>\n",
       "      <td>45.0</td>\n",
       "      <td>0</td>\n",
       "      <td>Ketapril</td>\n",
       "      <td>Male</td>\n",
       "      <td>21</td>\n",
       "      <td>25</td>\n",
       "    </tr>\n",
       "  </tbody>\n",
       "</table>\n",
       "</div>"
      ],
      "text/plain": [
       "  Mouse ID  Timepoint  Tumor Volume (mm3)  Metastatic Sites Drug Regimen  \\\n",
       "0     b128          0                45.0                 0    Capomulin   \n",
       "1     f932          0                45.0                 0     Ketapril   \n",
       "2     g107          0                45.0                 0     Ketapril   \n",
       "3     a457          0                45.0                 0     Ketapril   \n",
       "4     c819          0                45.0                 0     Ketapril   \n",
       "\n",
       "      Sex  Age_months  Weight (g)  \n",
       "0  Female           9          22  \n",
       "1    Male          15          29  \n",
       "2  Female           2          29  \n",
       "3  Female          11          30  \n",
       "4    Male          21          25  "
      ]
     },
     "execution_count": 6,
     "metadata": {},
     "output_type": "execute_result"
    }
   ],
   "source": [
    "# Create a clean DataFrame by dropping the duplicate mouse by its ID.\n",
    "# https://sparkbyexamples.com/pandas/pandas-delete-rows-based-on-column-value/\n",
    "study_data_complete = study_data_complete.loc[(\n",
    "    study_data_complete[\"Mouse ID\"] != 'g989')]\n",
    "study_data_complete.head()"
   ]
  },
  {
   "cell_type": "code",
   "execution_count": 7,
   "id": "b65d5b20",
   "metadata": {},
   "outputs": [
    {
     "data": {
      "text/plain": [
       "248"
      ]
     },
     "execution_count": 7,
     "metadata": {},
     "output_type": "execute_result"
    }
   ],
   "source": [
    "# Checking the number of mice in the clean DataFrame.\n",
    "new_mice_count = len(pd.unique(study_data_complete['Mouse ID']))\n",
    "new_mice_count"
   ]
  },
  {
   "cell_type": "code",
   "execution_count": 8,
   "id": "2cf2fcfd",
   "metadata": {},
   "outputs": [],
   "source": [
    "# Summary Statistics"
   ]
  },
  {
   "cell_type": "code",
   "execution_count": 9,
   "id": "a4f9234d",
   "metadata": {},
   "outputs": [
    {
     "data": {
      "text/html": [
       "<div>\n",
       "<style scoped>\n",
       "    .dataframe tbody tr th:only-of-type {\n",
       "        vertical-align: middle;\n",
       "    }\n",
       "\n",
       "    .dataframe tbody tr th {\n",
       "        vertical-align: top;\n",
       "    }\n",
       "\n",
       "    .dataframe thead th {\n",
       "        text-align: right;\n",
       "    }\n",
       "</style>\n",
       "<table border=\"1\" class=\"dataframe\">\n",
       "  <thead>\n",
       "    <tr style=\"text-align: right;\">\n",
       "      <th></th>\n",
       "      <th>Mean Tumor Volume</th>\n",
       "      <th>Median Tumor Volume</th>\n",
       "      <th>Tumor Volume Variance</th>\n",
       "      <th>Tumor Volume Std. Dev.</th>\n",
       "      <th>Tumor Volume Std. Err.</th>\n",
       "    </tr>\n",
       "    <tr>\n",
       "      <th>Drug Regimen</th>\n",
       "      <th></th>\n",
       "      <th></th>\n",
       "      <th></th>\n",
       "      <th></th>\n",
       "      <th></th>\n",
       "    </tr>\n",
       "  </thead>\n",
       "  <tbody>\n",
       "    <tr>\n",
       "      <th>Capomulin</th>\n",
       "      <td>40.675741</td>\n",
       "      <td>41.557809</td>\n",
       "      <td>24.947764</td>\n",
       "      <td>4.994774</td>\n",
       "      <td>0.329346</td>\n",
       "    </tr>\n",
       "    <tr>\n",
       "      <th>Ceftamin</th>\n",
       "      <td>52.591172</td>\n",
       "      <td>51.776157</td>\n",
       "      <td>39.290177</td>\n",
       "      <td>6.268188</td>\n",
       "      <td>0.469821</td>\n",
       "    </tr>\n",
       "    <tr>\n",
       "      <th>Infubinol</th>\n",
       "      <td>52.884795</td>\n",
       "      <td>51.820584</td>\n",
       "      <td>43.128684</td>\n",
       "      <td>6.567243</td>\n",
       "      <td>0.492236</td>\n",
       "    </tr>\n",
       "    <tr>\n",
       "      <th>Ketapril</th>\n",
       "      <td>55.235638</td>\n",
       "      <td>53.698743</td>\n",
       "      <td>68.553577</td>\n",
       "      <td>8.279709</td>\n",
       "      <td>0.603860</td>\n",
       "    </tr>\n",
       "    <tr>\n",
       "      <th>Naftisol</th>\n",
       "      <td>54.331565</td>\n",
       "      <td>52.509285</td>\n",
       "      <td>66.173479</td>\n",
       "      <td>8.134708</td>\n",
       "      <td>0.596466</td>\n",
       "    </tr>\n",
       "    <tr>\n",
       "      <th>Placebo</th>\n",
       "      <td>54.033581</td>\n",
       "      <td>52.288934</td>\n",
       "      <td>61.168083</td>\n",
       "      <td>7.821003</td>\n",
       "      <td>0.581331</td>\n",
       "    </tr>\n",
       "    <tr>\n",
       "      <th>Propriva</th>\n",
       "      <td>52.320930</td>\n",
       "      <td>50.446266</td>\n",
       "      <td>43.852013</td>\n",
       "      <td>6.622085</td>\n",
       "      <td>0.544332</td>\n",
       "    </tr>\n",
       "    <tr>\n",
       "      <th>Ramicane</th>\n",
       "      <td>40.216745</td>\n",
       "      <td>40.673236</td>\n",
       "      <td>23.486704</td>\n",
       "      <td>4.846308</td>\n",
       "      <td>0.320955</td>\n",
       "    </tr>\n",
       "    <tr>\n",
       "      <th>Stelasyn</th>\n",
       "      <td>54.233149</td>\n",
       "      <td>52.431737</td>\n",
       "      <td>59.450562</td>\n",
       "      <td>7.710419</td>\n",
       "      <td>0.573111</td>\n",
       "    </tr>\n",
       "    <tr>\n",
       "      <th>Zoniferol</th>\n",
       "      <td>53.236507</td>\n",
       "      <td>51.818479</td>\n",
       "      <td>48.533355</td>\n",
       "      <td>6.966589</td>\n",
       "      <td>0.516398</td>\n",
       "    </tr>\n",
       "  </tbody>\n",
       "</table>\n",
       "</div>"
      ],
      "text/plain": [
       "              Mean Tumor Volume  Median Tumor Volume  Tumor Volume Variance  \\\n",
       "Drug Regimen                                                                  \n",
       "Capomulin             40.675741            41.557809              24.947764   \n",
       "Ceftamin              52.591172            51.776157              39.290177   \n",
       "Infubinol             52.884795            51.820584              43.128684   \n",
       "Ketapril              55.235638            53.698743              68.553577   \n",
       "Naftisol              54.331565            52.509285              66.173479   \n",
       "Placebo               54.033581            52.288934              61.168083   \n",
       "Propriva              52.320930            50.446266              43.852013   \n",
       "Ramicane              40.216745            40.673236              23.486704   \n",
       "Stelasyn              54.233149            52.431737              59.450562   \n",
       "Zoniferol             53.236507            51.818479              48.533355   \n",
       "\n",
       "              Tumor Volume Std. Dev.  Tumor Volume Std. Err.  \n",
       "Drug Regimen                                                  \n",
       "Capomulin                   4.994774                0.329346  \n",
       "Ceftamin                    6.268188                0.469821  \n",
       "Infubinol                   6.567243                0.492236  \n",
       "Ketapril                    8.279709                0.603860  \n",
       "Naftisol                    8.134708                0.596466  \n",
       "Placebo                     7.821003                0.581331  \n",
       "Propriva                    6.622085                0.544332  \n",
       "Ramicane                    4.846308                0.320955  \n",
       "Stelasyn                    7.710419                0.573111  \n",
       "Zoniferol                   6.966589                0.516398  "
      ]
     },
     "execution_count": 9,
     "metadata": {},
     "output_type": "execute_result"
    }
   ],
   "source": [
    "# Generate a summary statistics table of mean, median, variance, standard deviation, and SEM of the tumor volume for each regimen\n",
    "# https://www.w3schools.com/python/pandas/ref_df_std.asp#:~:text=The%20var()%20method%20calculates,the%20variance%20for%20each%20row.\n",
    "tumor_mean = study_data_complete.groupby(['Drug Regimen']).mean()['Tumor Volume (mm3)']\n",
    "tumor_median = study_data_complete.groupby(['Drug Regimen']).median()['Tumor Volume (mm3)']\n",
    "tumor_variance = study_data_complete.groupby(['Drug Regimen']).var()['Tumor Volume (mm3)']\n",
    "tumor_std_dev = study_data_complete.groupby(['Drug Regimen']).std()['Tumor Volume (mm3)']\n",
    "tumor_std_em = study_data_complete.groupby(['Drug Regimen']).sem()['Tumor Volume (mm3)']\n",
    "\n",
    "drug_tumor_summary = pd.DataFrame({'Mean Tumor Volume':tumor_mean,\n",
    "                                   'Median Tumor Volume':tumor_median,\n",
    "                                   'Tumor Volume Variance':tumor_variance,\n",
    "                                   'Tumor Volume Std. Dev.':tumor_std_dev,\n",
    "                                   'Tumor Volume Std. Err.':tumor_std_em})\n",
    "\n",
    "drug_tumor_summary\n"
   ]
  },
  {
   "cell_type": "code",
   "execution_count": 10,
   "id": "8e78fd3d",
   "metadata": {},
   "outputs": [
    {
     "data": {
      "text/html": [
       "<div>\n",
       "<style scoped>\n",
       "    .dataframe tbody tr th:only-of-type {\n",
       "        vertical-align: middle;\n",
       "    }\n",
       "\n",
       "    .dataframe tbody tr th {\n",
       "        vertical-align: top;\n",
       "    }\n",
       "\n",
       "    .dataframe thead tr th {\n",
       "        text-align: left;\n",
       "    }\n",
       "\n",
       "    .dataframe thead tr:last-of-type th {\n",
       "        text-align: right;\n",
       "    }\n",
       "</style>\n",
       "<table border=\"1\" class=\"dataframe\">\n",
       "  <thead>\n",
       "    <tr>\n",
       "      <th></th>\n",
       "      <th colspan=\"5\" halign=\"left\">Tumor Volume (mm3)</th>\n",
       "    </tr>\n",
       "    <tr>\n",
       "      <th></th>\n",
       "      <th>mean</th>\n",
       "      <th>median</th>\n",
       "      <th>var</th>\n",
       "      <th>std</th>\n",
       "      <th>sem</th>\n",
       "    </tr>\n",
       "    <tr>\n",
       "      <th>Drug Regimen</th>\n",
       "      <th></th>\n",
       "      <th></th>\n",
       "      <th></th>\n",
       "      <th></th>\n",
       "      <th></th>\n",
       "    </tr>\n",
       "  </thead>\n",
       "  <tbody>\n",
       "    <tr>\n",
       "      <th>Capomulin</th>\n",
       "      <td>40.675741</td>\n",
       "      <td>41.557809</td>\n",
       "      <td>24.947764</td>\n",
       "      <td>4.994774</td>\n",
       "      <td>0.329346</td>\n",
       "    </tr>\n",
       "    <tr>\n",
       "      <th>Ceftamin</th>\n",
       "      <td>52.591172</td>\n",
       "      <td>51.776157</td>\n",
       "      <td>39.290177</td>\n",
       "      <td>6.268188</td>\n",
       "      <td>0.469821</td>\n",
       "    </tr>\n",
       "    <tr>\n",
       "      <th>Infubinol</th>\n",
       "      <td>52.884795</td>\n",
       "      <td>51.820584</td>\n",
       "      <td>43.128684</td>\n",
       "      <td>6.567243</td>\n",
       "      <td>0.492236</td>\n",
       "    </tr>\n",
       "    <tr>\n",
       "      <th>Ketapril</th>\n",
       "      <td>55.235638</td>\n",
       "      <td>53.698743</td>\n",
       "      <td>68.553577</td>\n",
       "      <td>8.279709</td>\n",
       "      <td>0.603860</td>\n",
       "    </tr>\n",
       "    <tr>\n",
       "      <th>Naftisol</th>\n",
       "      <td>54.331565</td>\n",
       "      <td>52.509285</td>\n",
       "      <td>66.173479</td>\n",
       "      <td>8.134708</td>\n",
       "      <td>0.596466</td>\n",
       "    </tr>\n",
       "    <tr>\n",
       "      <th>Placebo</th>\n",
       "      <td>54.033581</td>\n",
       "      <td>52.288934</td>\n",
       "      <td>61.168083</td>\n",
       "      <td>7.821003</td>\n",
       "      <td>0.581331</td>\n",
       "    </tr>\n",
       "    <tr>\n",
       "      <th>Propriva</th>\n",
       "      <td>52.320930</td>\n",
       "      <td>50.446266</td>\n",
       "      <td>43.852013</td>\n",
       "      <td>6.622085</td>\n",
       "      <td>0.544332</td>\n",
       "    </tr>\n",
       "    <tr>\n",
       "      <th>Ramicane</th>\n",
       "      <td>40.216745</td>\n",
       "      <td>40.673236</td>\n",
       "      <td>23.486704</td>\n",
       "      <td>4.846308</td>\n",
       "      <td>0.320955</td>\n",
       "    </tr>\n",
       "    <tr>\n",
       "      <th>Stelasyn</th>\n",
       "      <td>54.233149</td>\n",
       "      <td>52.431737</td>\n",
       "      <td>59.450562</td>\n",
       "      <td>7.710419</td>\n",
       "      <td>0.573111</td>\n",
       "    </tr>\n",
       "    <tr>\n",
       "      <th>Zoniferol</th>\n",
       "      <td>53.236507</td>\n",
       "      <td>51.818479</td>\n",
       "      <td>48.533355</td>\n",
       "      <td>6.966589</td>\n",
       "      <td>0.516398</td>\n",
       "    </tr>\n",
       "  </tbody>\n",
       "</table>\n",
       "</div>"
      ],
      "text/plain": [
       "             Tumor Volume (mm3)                                          \n",
       "                           mean     median        var       std       sem\n",
       "Drug Regimen                                                             \n",
       "Capomulin             40.675741  41.557809  24.947764  4.994774  0.329346\n",
       "Ceftamin              52.591172  51.776157  39.290177  6.268188  0.469821\n",
       "Infubinol             52.884795  51.820584  43.128684  6.567243  0.492236\n",
       "Ketapril              55.235638  53.698743  68.553577  8.279709  0.603860\n",
       "Naftisol              54.331565  52.509285  66.173479  8.134708  0.596466\n",
       "Placebo               54.033581  52.288934  61.168083  7.821003  0.581331\n",
       "Propriva              52.320930  50.446266  43.852013  6.622085  0.544332\n",
       "Ramicane              40.216745  40.673236  23.486704  4.846308  0.320955\n",
       "Stelasyn              54.233149  52.431737  59.450562  7.710419  0.573111\n",
       "Zoniferol             53.236507  51.818479  48.533355  6.966589  0.516398"
      ]
     },
     "execution_count": 10,
     "metadata": {},
     "output_type": "execute_result"
    }
   ],
   "source": [
    "# Generate a summary statistics table of mean, median, variance, standard deviation, \n",
    "# and SEM of the tumor volume for each regimen\n",
    "# https://sparkbyexamples.com/pandas/pandas-aggregate-functions-with-examples/\n",
    "agg_drug_tumor_summary = study_data_complete.groupby('Drug Regimen')[['Tumor Volume (mm3)']].aggregate(['mean','median','var','std','sem'])\n",
    "agg_drug_tumor_summary\n",
    "# Using the aggregation method, produce the same summary statistics in a single line."
   ]
  },
  {
   "cell_type": "code",
   "execution_count": 11,
   "id": "ec674d9c",
   "metadata": {},
   "outputs": [],
   "source": [
    "#  Bar and Pie Charts"
   ]
  },
  {
   "cell_type": "code",
   "execution_count": 12,
   "id": "adf8cde3",
   "metadata": {},
   "outputs": [
    {
     "data": {
      "text/plain": [
       "<AxesSubplot:xlabel='Drug Regimen', ylabel='Number of Mice Tested'>"
      ]
     },
     "execution_count": 12,
     "metadata": {},
     "output_type": "execute_result"
    },
    {
     "data": {
      "image/png": "[encoded data removed]",
      "text/plain": [
       "<Figure size 640x480 with 1 Axes>"
      ]
     },
     "metadata": {},
     "output_type": "display_data"
    }
   ],
   "source": [
    "# Generate a bar plot showing the total number of timepoints for all mice tested for each drug regimen using Pandas.\n",
    "# How to write a bargraph in pandas = https://pandas.pydata.org/docs/reference/api/pandas.DataFrame.plot.bar.html\n",
    "# How to sort in pandas = https://realpython.com/pandas-sort-python/\n",
    "# How to set titles in pandas = https://stackoverflow.com/questions/21487329/add-x-and-y-labels-to-a-pandas-plot\n",
    "timepoint_total = study_data_complete.groupby(['Drug Regimen'])['Timepoint'].count()\n",
    "timepoint_total = timepoint_total.sort_values(ascending=False)\n",
    "total_mouse_drug = timepoint_total.plot.bar(rot=90)\n",
    "total_mouse_drug.set_ylabel('Number of Mice Tested')\n",
    "\n",
    "total_mouse_drug"
   ]
  },
  {
   "cell_type": "code",
   "execution_count": 13,
   "id": "4da0f671",
   "metadata": {},
   "outputs": [],
   "source": [
    "# Making a dataframe out of the timepoint_total count\n",
    "bar_total = pd.DataFrame(timepoint_total)\n"
   ]
  },
  {
   "cell_type": "code",
   "execution_count": 14,
   "id": "0847a8f6",
   "metadata": {},
   "outputs": [
    {
     "data": {
      "image/png": "[encoded data removed]",
      "text/plain": [
       "<Figure size 640x480 with 1 Axes>"
      ]
     },
     "metadata": {},
     "output_type": "display_data"
    }
   ],
   "source": [
    "# Generate a bar plot showing the total number of timepoints for all mice tested for each drug regimen using pyplot.\n",
    "\n",
    "plt.bar(bar_total.index,bar_total['Timepoint'])\n",
    "plt.xlabel('Drug Regimen')\n",
    "plt.ylabel('Number of Mice Tested')\n",
    "plt.xticks(rotation=90)\n",
    "plt.show()\n"
   ]
  },
  {
   "cell_type": "code",
   "execution_count": 15,
   "id": "8533a378",
   "metadata": {},
   "outputs": [
    {
     "data": {
      "text/plain": [
       "<AxesSubplot:ylabel='Sex'>"
      ]
     },
     "execution_count": 15,
     "metadata": {},
     "output_type": "execute_result"
    },
    {
     "data": {
      "image/png": "[encoded data removed]",
      "text/plain": [
       "<Figure size 640x480 with 1 Axes>"
      ]
     },
     "metadata": {},
     "output_type": "display_data"
    }
   ],
   "source": [
    "# Generate a pie plot showing the distribution of female versus male mice using Pandas\n",
    "sex_total = study_data_complete.groupby(['Sex'])['Mouse ID'].count()\n",
    "sex_total = sex_total.sort_values(ascending=False)\n",
    "MF_mouse = sex_total.plot.pie(y = \"Sex\",autopct='%1.1f%%')\n",
    "\n",
    "MF_mouse.set_ylabel('Sex')\n",
    "\n",
    "MF_mouse\n"
   ]
  },
  {
   "cell_type": "code",
   "execution_count": 16,
   "id": "4abd113c",
   "metadata": {},
   "outputs": [
    {
     "data": {
      "image/png": "[encoded data removed]",
      "text/plain": [
       "<Figure size 640x480 with 1 Axes>"
      ]
     },
     "metadata": {},
     "output_type": "display_data"
    }
   ],
   "source": [
    "# Generate a pie plot showing the distribution of female versus male mice using pyplot\n",
    "sex_complete = pd.DataFrame(sex_total)\n",
    "\n",
    "sex_complete\n",
    "\n",
    "plt.pie(sex_complete['Mouse ID'],labels = sex_complete.index, autopct='%1.1f%%')\n",
    "plt.ylabel('Sex')\n",
    "plt.show()\n"
   ]
  },
  {
   "cell_type": "code",
   "execution_count": 17,
   "id": "cede57d5",
   "metadata": {},
   "outputs": [],
   "source": [
    "#  Quartiles, Outliers and Boxplots"
   ]
  },
  {
   "cell_type": "code",
   "execution_count": 18,
   "id": "c612eb54",
   "metadata": {},
   "outputs": [],
   "source": [
    "# Calculate the final tumor volume of each mouse across four of the treatment regimens:  \n",
    "# Capomulin, Ramicane, Infubinol, and Ceftamin\n",
    "# How to merge dataframes - https://pandas.pydata.org/docs/user_guide/merging.html\n",
    "capo_df = study_data_complete.loc[study_data_complete['Drug Regimen']== 'Capomulin']\n",
    "rami_df = study_data_complete.loc[study_data_complete['Drug Regimen']== 'Ramicane']\n",
    "infu_df = study_data_complete.loc[study_data_complete['Drug Regimen']== 'Infubinol']\n",
    "ceft_df = study_data_complete.loc[study_data_complete['Drug Regimen']== 'Ceftamin']\n",
    "\n",
    "drugs = [capo_df,rami_df,infu_df,ceft_df]\n",
    "quart_drugs = pd.concat(drugs)\n",
    "\n",
    "# Start by getting the last (greatest) timepoint for each mouse\n",
    "greatest_time=study_data_complete.groupby(['Mouse ID'])['Timepoint'].max()\n",
    "# combine drug df's with max time df\n",
    "drug_time_study=pd.merge(quart_drugs,greatest_time, on='Mouse ID')\n",
    "# find where both the timepoint and the max timepoint meet\n",
    "drug_time_study['Final Time'] = drug_time_study[\"Timepoint_x\"] == drug_time_study[\"Timepoint_y\"]\n",
    "# remove any place that the time is not the final timepoint for each mouse\n",
    "drug_time_study.drop(drug_time_study.loc[drug_time_study['Final Time']==False].index, inplace=True)\n",
    "\n",
    "# Merge this group df with the original DataFrame to get the tumor volume at the last timepoint\n",
    "# make a clean df with only the drug, mouse, time, and tumor volume\n",
    "drug_tumor = drug_time_study[['Mouse ID','Drug Regimen','Timepoint_x','Tumor Volume (mm3)']]\n"
   ]
  },
  {
   "cell_type": "code",
   "execution_count": 19,
   "id": "6efb614a",
   "metadata": {},
   "outputs": [
    {
     "name": "stdout",
     "output_type": "stream",
     "text": [
      "Capomulins potential outliers: Series([], Name: Tumor Volume (mm3), dtype: float64)\n",
      "Ramicanes potential outliers: Series([], Name: Tumor Volume (mm3), dtype: float64)\n",
      "Infubinols potential outliers: 459    36.321346\n",
      "Name: Tumor Volume (mm3), dtype: float64\n",
      "Ceftamins potential outliers: Series([], Name: Tumor Volume (mm3), dtype: float64)\n"
     ]
    }
   ],
   "source": [
    "# Put treatments into a list for for loop (and later for plot labels)\n",
    "\n",
    "treatments = ['Capomulin','Ramicane','Infubinol','Ceftamin']\n",
    "\n",
    "# Create empty list to fill with tumor vol data (for plotting)\n",
    "tumor_vol_data = []\n",
    "\n",
    "# Calculate the IQR and quantitatively determine if there are any potential outliers.\n",
    "# finding out the meaning of IQR - https://www.khanacademy.org/math/cc-sixth-grade-math/cc-6th-data-statistics/cc-6th/v/calculating-interquartile-range-iqr#:~:text=To%20find%20the%20interquartile%20range,difference%20between%20Q3%20and%20Q1.\n",
    "\n",
    "for drug in treatments:\n",
    "    #Locate the rows which contain mice on each drug and get the tumor volumes\n",
    "    tvolume = drug_tumor.loc[drug_tumor['Drug Regimen']==drug]['Tumor Volume (mm3)']\n",
    "    tumor_vol_data.append(tvolume)\n",
    "    \n",
    "    # add subset    \n",
    "    quartile = tvolume.quantile([0.25,0.5,0.75])\n",
    "    bottom = quartile[0.25]\n",
    "    top = quartile[0.75]\n",
    "    \n",
    "    # Determine outliers using upper and lower bounds\n",
    "    iqr = top - bottom\n",
    "    \n",
    "    lower_bound = bottom - (1.5*iqr)\n",
    "    upper_bound = top + (1.5*iqr)\n",
    "    \n",
    "    outliers = tvolume.loc[(tvolume>upper_bound)| (tvolume<lower_bound)]\n",
    "    if len(tvolume)>0:\n",
    "        print(f'{drug}s potential outliers: {outliers}')\n",
    "\n"
   ]
  },
  {
   "cell_type": "code",
   "execution_count": 20,
   "id": "b7bffd77",
   "metadata": {},
   "outputs": [
    {
     "data": {
      "image/png": "[encoded data removed]",
      "text/plain": [
       "<Figure size 640x480 with 1 Axes>"
      ]
     },
     "metadata": {},
     "output_type": "display_data"
    }
   ],
   "source": [
    "# Generate a box plot that shows the distrubution of the tumor volume for each treatment group.\n",
    "# How to color an outlier - https://stackoverflow.com/questions/65648502/how-to-change-outlier-point-symbol-in-python-matplotlib-pyplot\n",
    "plt.boxplot(tumor_vol_data,labels = treatments, flierprops={'marker':'o', 'markersize':10,'markerfacecolor':'red'})\n",
    "plt.ylabel(\"Final Tumor Volume (mm3)\")\n",
    "plt.show()\n"
   ]
  },
  {
   "cell_type": "code",
   "execution_count": 21,
   "id": "7d824d90",
   "metadata": {},
   "outputs": [],
   "source": [
    "# Line and Scatter Plots"
   ]
  },
  {
   "cell_type": "code",
   "execution_count": 22,
   "id": "f8527972",
   "metadata": {},
   "outputs": [
    {
     "data": {
      "image/png": "[encoded data removed]",
      "text/plain": [
       "<Figure size 500x300 with 1 Axes>"
      ]
     },
     "metadata": {},
     "output_type": "display_data"
    }
   ],
   "source": [
    "# Generate a line plot of tumor volume vs. time point for a mouse treated with Capomulin\n",
    "# I509\n",
    "mouse_r554=capo_df.loc[capo_df['Mouse ID']=='r554']\n",
    "mouse_r554.plot(kind=\"line\",x='Timepoint',y='Tumor Volume (mm3)',figsize = (5,3))\n",
    "plt.title('Capomulin treatment of mouse r554')\n",
    "plt.xlabel('Timepoint (days)')\n",
    "plt.ylabel('Tumor Volume (mm3)')\n",
    "plt.show()\n",
    "    "
   ]
  },
  {
   "cell_type": "code",
   "execution_count": 23,
   "id": "60d42381",
   "metadata": {},
   "outputs": [
    {
     "data": {
      "image/png": "[encoded data removed]",
      "text/plain": [
       "<Figure size 500x300 with 1 Axes>"
      ]
     },
     "metadata": {},
     "output_type": "display_data"
    }
   ],
   "source": [
    "# Generate a scatter plot of average tumor volume vs. mouse weight for the Capomulin regimen\n",
    "# Group capomulin df by mouse\n",
    "capo_mouse=capo_df.groupby('Mouse ID')\n",
    "# Find the average weight and tumor size per mouse\n",
    "weight = capo_mouse['Weight (g)'].mean()\n",
    "average_tumorv = capo_mouse['Tumor Volume (mm3)'].mean()\n",
    "# Make a new dataframe with the mouseid, weight, and tumor size\n",
    "capo_mouse_df=pd.DataFrame({'Weight (g)':weight, 'Average Tumor Volume (mm3)':average_tumorv})\n",
    "# plot the DF\n",
    "\n",
    "capo_mouse_df.plot(kind= \"scatter\",x='Weight (g)', y='Average Tumor Volume (mm3)',figsize=(5,3))\n",
    "plt.show()\n",
    "                  \n"
   ]
  },
  {
   "cell_type": "code",
   "execution_count": 24,
   "id": "b00320c3",
   "metadata": {},
   "outputs": [],
   "source": [
    " # Correlation and Regression"
   ]
  },
  {
   "cell_type": "code",
   "execution_count": 25,
   "id": "e4423df9",
   "metadata": {},
   "outputs": [
    {
     "data": {
      "image/png": "[encoded data removed]",
      "text/plain": [
       "<Figure size 500x300 with 1 Axes>"
      ]
     },
     "metadata": {},
     "output_type": "display_data"
    },
    {
     "name": "stdout",
     "output_type": "stream",
     "text": [
      "The correlation between mouse weight and the average tumor volume is 0.84\n"
     ]
    }
   ],
   "source": [
    "# Calculate the correlation coefficient and linear regression model\n",
    "# lineregression - https://docs.scipy.org/doc/scipy/reference/generated/scipy.stats.pearsonr.html\n",
    "xweight= capo_mouse_df['Weight (g)']\n",
    "yatv= capo_mouse_df['Average Tumor Volume (mm3)']\n",
    "\n",
    "(slope,intercept,rvalue,pvalue,stderr) = st.linregress(xweight,yatv)\n",
    "regresslin = xweight*slope+intercept\n",
    "line_eq = \"y = \"+str(round(slope,2)) + \"x +\"+str(round(intercept,2))\n",
    "\n",
    "capo_mouse_df.plot(kind= \"scatter\",x='Weight (g)', y='Average Tumor Volume (mm3)',figsize=(5,3))\n",
    "plt.plot(xweight,regresslin,\"r-\")\n",
    "plt.show()\n",
    "\n",
    "print(f'The correlation between mouse weight and the average tumor volume is {round(st.pearsonr(xweight,yatv)[0],2)}')\n",
    "\n",
    "\n"
   ]
  },
  {
   "cell_type": "code",
   "execution_count": null,
   "id": "29929459",
   "metadata": {},
   "outputs": [],
   "source": []
  }
 ],
 "metadata": {
  "kernelspec": {
   "display_name": "Python 3 (ipykernel)",
   "language": "python",
   "name": "python3"
  },
  "language_info": {
   "codemirror_mode": {
    "name": "ipython",
    "version": 3
   },
   "file_extension": ".py",
   "mimetype": "text/x-python",
   "name": "python",
   "nbconvert_exporter": "python",
   "pygments_lexer": "ipython3",
   "version": "3.9.13"
  }
 },
 "nbformat": 4,
 "nbformat_minor": 5
}
